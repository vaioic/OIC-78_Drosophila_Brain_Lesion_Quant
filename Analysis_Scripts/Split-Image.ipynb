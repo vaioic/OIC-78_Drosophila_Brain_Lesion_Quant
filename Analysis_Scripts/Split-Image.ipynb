{
 "cells": [
  {
   "cell_type": "code",
   "execution_count": 1,
   "id": "25902f1f-edf2-49f3-aa9a-b788c3bf16a7",
   "metadata": {},
   "outputs": [],
   "source": [
    "import numpy as np\n",
    "import napari\n",
    "from tifffile import imread\n",
    "from tifffile import imwrite\n",
    "from glob import glob\n"
   ]
  },
  {
   "cell_type": "code",
   "execution_count": null,
   "id": "cfa83df3-ed7a-4178-92fc-96a9ffc31bd0",
   "metadata": {},
   "outputs": [],
   "source": [
    "mask_patches = []\n",
    "img_patches = []\n",
    "def arraysplit(img,patches_empty_list,vsplit=3,hsplit=6):\n",
    "    split = []\n",
    "    img = imread(img)\n",
    "    array = np.asarray(img)\n",
    "    array = np.transpose(img, [2,1,0])\n",
    "    unstacked = np.unstack(array, axis=-1)\n",
    "    for s in unstacked:\n",
    "        sarray = np.array_split(s,vsplit,axis=0)\n",
    "        for p in sarray:\n",
    "            split.append(p)\n",
    "    for a in split:\n",
    "        sa= np.array_split(a,hsplit,axis=-1)\n",
    "        for b in sa:\n",
    "           patches_empty_list.append(b)"
   ]
  },
  {
   "cell_type": "code",
   "execution_count": 13,
   "id": "e9e0e2e3-3368-4136-bab1-21359e654ab5",
   "metadata": {},
   "outputs": [],
   "source": [
    "def arraysplit3D(img,patches_empty_list,vsplit=3,hsplit=6):\n",
    "    im = imread(img)\n",
    "    hsplit_arrays = np.array_split(im,hsplit,axis=1)"
   ]
  },
  {
   "cell_type": "code",
   "execution_count": null,
   "id": "16934826-ee84-41ac-ba00-c7fe4e9dc8b8",
   "metadata": {},
   "outputs": [],
   "source": [
    "    for i in hsplit_arrays:\n",
    "        vsplit_arrays = np.array_split(i,vsplit,axis=2)\n",
    "        for j in vsplit_arrays:\n",
    "            patches_empty_list.append(j)"
   ]
  },
  {
   "cell_type": "code",
   "execution_count": 27,
   "id": "454cdc93-578f-4ff2-aadc-d850a1e5a594",
   "metadata": {},
   "outputs": [],
   "source": [
    "def filterdata(mask_patches,img_patches,save_path_masks,save_path_imgs):\n",
    "    for i in range(len(mask_patches)):\n",
    "        if np.max(mask_patches[i]) > 0:\n",
    "            imwrite(save_path_masks+'img_'+str(i)+'.tif', mask_patches[i])\n",
    "            imwrite(save_path_imgs+'img_'+str(i)+'.tif', img_patches[i])\n",
    "        else:\n",
    "            continue"
   ]
  },
  {
   "cell_type": "code",
   "execution_count": 4,
   "id": "e2de77fe-369c-4592-a805-8aa940e55eee",
   "metadata": {},
   "outputs": [],
   "source": [
    "imgs = sorted(glob('E:/Lempradl_Lab/April/OIC-78_Drosophila-brain-lesion-quant/training_images/*.tif'))\n",
    "masks = sorted(glob('E:/Lempradl_Lab/April/OIC-78_Drosophila-brain-lesion-quant/training_images_stringent_labels/*.tif'))\n",
    "save_path_masks = 'E:/Lempradl_Lab/April/OIC-78_Drosophila-brain-lesion-quant/Training_Patches_3D_SplitScript/Masks/'\n",
    "save_path_imgs = 'E:/Lempradl_Lab/April/OIC-78_Drosophila-brain-lesion-quant/Training_Patches_3D_SplitScript/Images/'"
   ]
  },
  {
   "cell_type": "code",
   "execution_count": 24,
   "id": "a47bd58e-d1c8-49b5-81b9-cf951f3520aa",
   "metadata": {},
   "outputs": [],
   "source": [
    "img_patches = []\n",
    "mask_patches = []\n",
    "for k in range(len(imgs)):\n",
    "    im = imread(imgs[k])\n",
    "    msk = imread(masks[k])\n",
    "    hsplit_img = np.array_split(im,6,axis=1)\n",
    "    hsplit_msk = np.array_split(msk,6,axis=1)\n",
    "    for i in range(len(hsplit_img)):\n",
    "        vsplit_img = np.array_split(hsplit_img[i],3,axis=2)\n",
    "        vsplit_msk = np.array_split(hsplit_msk[i],3,axis=2)\n",
    "        for j in range(len(vsplit_img)):\n",
    "            img_patches.append(vsplit_img[j])\n",
    "            mask_patches.append(vsplit_msk[j])"
   ]
  },
  {
   "cell_type": "code",
   "execution_count": 25,
   "id": "18e3fb43-8910-4312-8116-9bfd4e9d666d",
   "metadata": {},
   "outputs": [
    {
     "name": "stdout",
     "output_type": "stream",
     "text": [
      "288\n",
      "288\n"
     ]
    }
   ],
   "source": [
    "print(len(img_patches))\n",
    "print(len(mask_patches))"
   ]
  },
  {
   "cell_type": "code",
   "execution_count": 23,
   "id": "1f1d7090-fc55-4861-b687-de9f1ecfcb48",
   "metadata": {},
   "outputs": [],
   "source": [
    "viewer = napari.view_image(patches_empty_list[50], name= 'testsplit', scale = [0.208,0.208])"
   ]
  },
  {
   "cell_type": "code",
   "execution_count": null,
   "id": "ece60ae5-d8a1-471f-942f-50ef94d87885",
   "metadata": {},
   "outputs": [],
   "source": [
    "mask_patches = []\n",
    "img_patches = []\n",
    "for i in range(len(imgs)):\n",
    "    arraysplit3D(imgs[i], img_patches)\n",
    "    arraysplit3D(masks[i], mask_patches)\n",
    "\n",
    "print(len(mask_patches))\n",
    "print(len(img_patches))"
   ]
  },
  {
   "cell_type": "code",
   "execution_count": 28,
   "id": "1436bf47-e7cf-4346-be15-b60f555d33ef",
   "metadata": {},
   "outputs": [],
   "source": [
    "filterdata(mask_patches,img_patches,save_path_masks,save_path_imgs)"
   ]
  },
  {
   "cell_type": "code",
   "execution_count": null,
   "id": "16b88d9d-f1d6-4aa2-bdf6-1839f84e6d49",
   "metadata": {},
   "outputs": [],
   "source": []
  },
  {
   "cell_type": "code",
   "execution_count": null,
   "id": "ee28856e-844a-4550-843d-67109c9ad7c2",
   "metadata": {},
   "outputs": [],
   "source": [
    "#All Cells below were from working out the parts of the final script above"
   ]
  },
  {
   "cell_type": "code",
   "execution_count": null,
   "id": "e36ecce7-e016-4578-b3ed-a1c92d0d2bbd",
   "metadata": {},
   "outputs": [],
   "source": [
    "img = imread('E:/Lempradl_Lab/April/OIC-78_Drosophila-brain-lesion-quant/training_images/S3_Wk1_M1C_01_2023_08_25__10_31_22.tif')\n",
    "mask = imread('E:/Lempradl_Lab/April/OIC-78_Drosophila-brain-lesion-quant/training_images_stringent_labels/S3_Wk1_M1C_01_2023_08_25__10_31_22_stringent.tif')"
   ]
  },
  {
   "cell_type": "code",
   "execution_count": null,
   "id": "e1aa81f9-f244-42db-ac15-242f57701259",
   "metadata": {},
   "outputs": [],
   "source": [
    "img.shape"
   ]
  },
  {
   "cell_type": "code",
   "execution_count": null,
   "id": "57dbcfe3-7f57-4254-b9ea-17d21374bd72",
   "metadata": {},
   "outputs": [],
   "source": [
    "array = np.asarray(img)\n",
    "array = np.transpose(img, [2,1,0])"
   ]
  },
  {
   "cell_type": "code",
   "execution_count": null,
   "id": "c2f95b9d-7d45-4416-b50e-d681ff280676",
   "metadata": {},
   "outputs": [],
   "source": [
    "array.shape"
   ]
  },
  {
   "cell_type": "code",
   "execution_count": null,
   "id": "56f88d83-006c-4aa8-b665-e441ae8bcb8a",
   "metadata": {},
   "outputs": [],
   "source": [
    "unstacked = np.unstack(array, axis=-1)"
   ]
  },
  {
   "cell_type": "code",
   "execution_count": null,
   "id": "c8bd0dd0-329a-485d-836c-03ff9f32bb6f",
   "metadata": {},
   "outputs": [],
   "source": [
    "unstacked[0].shape"
   ]
  },
  {
   "cell_type": "code",
   "execution_count": null,
   "id": "d515fc3a-c7ff-4ab4-b67e-273fc0dbce2b",
   "metadata": {},
   "outputs": [],
   "source": [
    "mask_patches = []\n",
    "img_patches = []\n",
    "def arraysplit(img,vsplit=3,hsplit=6,patches_list):\n",
    "    split = []\n",
    "    array = np.transpose(img, [2,1,0])\n",
    "    unstasked = np.usntack(array, axis=-1)\n",
    "    for s in unstacked:\n",
    "        sarray = np.array_split(s,vsplit,axis=0)\n",
    "        for p in sarray:\n",
    "            split.append(p)\n",
    "    for a in split:\n",
    "        sa= np.array_split(a,hsplit,axis=-1)\n",
    "        for b in sa:\n",
    "           patches_list.append(b)"
   ]
  },
  {
   "cell_type": "code",
   "execution_count": null,
   "id": "f61639b7-bcc1-4d90-895a-beb9f69e846b",
   "metadata": {},
   "outputs": [],
   "source": [
    "def filterdata(mask_patches,img_patches,save_path_masks,save_path_imgs):\n",
    "    for i in range(len(mask_patches)):\n",
    "        if np.max(mask_patches[i]) > 0:\n",
    "            imwrite(save_path_masks+'img_'+str(i)+'.tif', mask_patches[i])\n",
    "            imwrite(save_path_imgs+'img_'+str(i)+'.tif', img_patches[i])\n",
    "        else:\n",
    "            continue"
   ]
  },
  {
   "cell_type": "code",
   "execution_count": null,
   "id": "7bb993b0-5197-4d0c-b652-78d2a371c12a",
   "metadata": {},
   "outputs": [],
   "source": [
    "array_mask = np.asarray(mask)\n",
    "array_mask = np.transpose(mask, [2,1,0])\n",
    "unstacked_mask = np.unstack(array_mask, axis=-1)\n",
    "print(array_mask.shape)\n",
    "print(unstacked_mask[0].shape)"
   ]
  },
  {
   "cell_type": "code",
   "execution_count": null,
   "id": "43df0d42-413d-4d0c-879a-c9b4c62dc258",
   "metadata": {},
   "outputs": [],
   "source": [
    "fullsplit_mask = []\n",
    "split_mask = []\n",
    "for array in unstacked_mask:\n",
    "    sarray = np.array_split(array,3,axis=0)\n",
    "    for s in sarray:\n",
    "        split_mask.append(s)\n",
    "\n",
    "for a in split_mask:\n",
    "    sa= np.array_split(a,6,axis=-1)\n",
    "    for b in sa:\n",
    "       fullsplit_mask.append(b)"
   ]
  },
  {
   "cell_type": "code",
   "execution_count": null,
   "id": "7a7916c0-c80d-4db9-bfd3-3965b874558b",
   "metadata": {},
   "outputs": [],
   "source": [
    "filtered_mask = []\n",
    "filtered_img = []\n",
    "for i in range(len(fullsplit_mask)):\n",
    "    if np.max(fullsplit_mask[i]) > 0:\n",
    "        filtered_mask.append(fullsplit_mask[i])\n",
    "        filtered_img.append(fullsplit[i])\n",
    "    else:\n",
    "        continue\n",
    "    "
   ]
  },
  {
   "cell_type": "code",
   "execution_count": null,
   "id": "91b690d8-1d9e-4cfa-9076-427c708776f8",
   "metadata": {},
   "outputs": [],
   "source": [
    "#testing that tifffile's imwrite was set up correctly"
   ]
  },
  {
   "cell_type": "code",
   "execution_count": null,
   "id": "63e0c0df-8275-45ec-a079-79c2cd7e1049",
   "metadata": {},
   "outputs": [],
   "source": [
    "out_path = 'E:/Lempradl_Lab/April/OIC-78_Drosophila-brain-lesion-quant/SplitImageTest/'"
   ]
  },
  {
   "cell_type": "code",
   "execution_count": null,
   "id": "24fd52bf-11c0-4c7a-bea0-8b0ea2d3b42b",
   "metadata": {},
   "outputs": [],
   "source": [
    "imwrite(out_path+'testout.tif', filtered_mask[11])"
   ]
  },
  {
   "cell_type": "code",
   "execution_count": null,
   "id": "94213781-9015-44bd-b491-30b4816f8b1c",
   "metadata": {},
   "outputs": [],
   "source": [
    "viewer = napari.view_image(filtered_img[11], name= 'testsplit', scale = [0.208,0.208])\n",
    "viewer.add_image(filtered_mask[11],name='testmask',scale = [0.208,0.208])"
   ]
  },
  {
   "cell_type": "code",
   "execution_count": null,
   "id": "4e46f443-89b9-4940-ab2c-00c1d531231a",
   "metadata": {},
   "outputs": [],
   "source": [
    "img2 = imread('E:/Lempradl_Lab/April/OIC-78_Drosophila-brain-lesion-quant/SplitImageTest/testout.tif')"
   ]
  },
  {
   "cell_type": "code",
   "execution_count": null,
   "id": "7262e4ff-1b56-4c1c-a072-7a6287ec4122",
   "metadata": {},
   "outputs": [],
   "source": [
    "img2.shape"
   ]
  },
  {
   "cell_type": "code",
   "execution_count": null,
   "id": "dcb0fc18-98ef-47bd-91cf-09d1c276db19",
   "metadata": {},
   "outputs": [],
   "source": [
    "#save all the masks and corresponding image patches that contain labels"
   ]
  },
  {
   "cell_type": "code",
   "execution_count": null,
   "id": "53cb075d-2537-4636-b030-8561af491767",
   "metadata": {},
   "outputs": [],
   "source": [
    "out_masks = 'E:/Lempradl_Lab/April/OIC-78_Drosophila-brain-lesion-quant/Training_Patches_2D_SplitScript/Masks/'\n",
    "out_img = 'E:/Lempradl_Lab/April/OIC-78_Drosophila-brain-lesion-quant/Training_Patches_2D_SplitScript/Images/'"
   ]
  },
  {
   "cell_type": "code",
   "execution_count": null,
   "id": "97f066c4-2289-49e7-b413-64ab621a1c9e",
   "metadata": {},
   "outputs": [],
   "source": [
    "for i in range(len(filtered_mask)):\n",
    "    imwrite(out_masks+'img_'+str(i)+'.tif',filtered_mask[i])\n",
    "    imwrite(out_img+'img_'+str(i)+'.tif',filtered_img[i])"
   ]
  },
  {
   "cell_type": "code",
   "execution_count": null,
   "id": "495709db-69a3-4043-a58d-ca3cb7f7d76c",
   "metadata": {},
   "outputs": [],
   "source": []
  }
 ],
 "metadata": {
  "kernelspec": {
   "display_name": "Python 3 (ipykernel)",
   "language": "python",
   "name": "python3"
  },
  "language_info": {
   "codemirror_mode": {
    "name": "ipython",
    "version": 3
   },
   "file_extension": ".py",
   "mimetype": "text/x-python",
   "name": "python",
   "nbconvert_exporter": "python",
   "pygments_lexer": "ipython3",
   "version": "3.12.9"
  }
 },
 "nbformat": 4,
 "nbformat_minor": 5
}
