{
 "cells": [
  {
   "cell_type": "code",
   "execution_count": null,
   "id": "25902f1f-edf2-49f3-aa9a-b788c3bf16a7",
   "metadata": {},
   "outputs": [],
   "source": [
    "import numpy as np\n",
    "import napari\n",
    "from tifffile import imread\n",
    "from tifffile import imwrite\n",
    "from glob import glob\n"
   ]
  },
  {
   "cell_type": "code",
   "execution_count": null,
   "id": "cfa83df3-ed7a-4178-92fc-96a9ffc31bd0",
   "metadata": {},
   "outputs": [],
   "source": [
    "mask_patches = []\n",
    "img_patches = []\n",
    "def arraysplit(img,patches_empty_list,vsplit=3,hsplit=6):\n",
    "    split = []\n",
    "    img = imread(img)\n",
    "    array = np.asarray(img)\n",
    "    array = np.transpose(img, [2,1,0])\n",
    "    unstacked = np.unstack(array, axis=-1)\n",
    "    for s in unstacked:\n",
    "        sarray = np.array_split(s,vsplit,axis=0)\n",
    "        for p in sarray:\n",
    "            split.append(p)\n",
    "    for a in split:\n",
    "        sa= np.array_split(a,hsplit,axis=-1)\n",
    "        for b in sa:\n",
    "           patches_empty_list.append(b)"
   ]
  },
  {
   "cell_type": "code",
   "execution_count": null,
   "id": "e9e0e2e3-3368-4136-bab1-21359e654ab5",
   "metadata": {},
   "outputs": [],
   "source": [
    "def arraysplit3D(img,patches_empty_list,vsplit=3,hsplit=6):\n",
    "    im = imread(img)\n",
    "    hsplit_arrays = np.array_split(im,hsplit,axis=1)"
   ]
  },
  {
   "cell_type": "code",
   "execution_count": null,
   "id": "16934826-ee84-41ac-ba00-c7fe4e9dc8b8",
   "metadata": {},
   "outputs": [],
   "source": [
    "    for i in hsplit_arrays:\n",
    "        vsplit_arrays = np.array_split(i,vsplit,axis=2)\n",
    "        for j in vsplit_arrays:\n",
    "            patches_empty_list.append(j)"
   ]
  },
  {
   "cell_type": "code",
   "execution_count": null,
   "id": "454cdc93-578f-4ff2-aadc-d850a1e5a594",
   "metadata": {},
   "outputs": [],
   "source": [
    "def filterdata(mask_patches,img_patches,save_path_masks,save_path_imgs):\n",
    "    for i in range(len(mask_patches)):\n",
    "        if np.max(mask_patches[i]) > 0:\n",
    "            imwrite(save_path_masks+'img_'+str(i)+'.tif', mask_patches[i])\n",
    "            imwrite(save_path_imgs+'img_'+str(i)+'.tif', img_patches[i])\n",
    "        else:\n",
    "            continue"
   ]
  },
  {
   "cell_type": "code",
   "execution_count": null,
   "id": "e2de77fe-369c-4592-a805-8aa940e55eee",
   "metadata": {},
   "outputs": [],
   "source": [
    "imgs = sorted(glob('Path/to/images/*.tif'))\n",
    "masks = sorted(glob('Path/to/masks/*.tif'))\n",
    "save_path_masks = 'Save/Location/for/Masks/'\n",
    "save_path_imgs = 'Save/Location/for/Images/'"
   ]
  },
  {
   "cell_type": "code",
   "execution_count": null,
   "id": "a47bd58e-d1c8-49b5-81b9-cf951f3520aa",
   "metadata": {},
   "outputs": [],
   "source": [
    "img_patches = []\n",
    "mask_patches = []\n",
    "for k in range(len(imgs)):\n",
    "    im = imread(imgs[k])\n",
    "    msk = imread(masks[k])\n",
    "    hsplit_img = np.array_split(im,6,axis=1)\n",
    "    hsplit_msk = np.array_split(msk,6,axis=1)\n",
    "    for i in range(len(hsplit_img)):\n",
    "        vsplit_img = np.array_split(hsplit_img[i],3,axis=2)\n",
    "        vsplit_msk = np.array_split(hsplit_msk[i],3,axis=2)\n",
    "        for j in range(len(vsplit_img)):\n",
    "            img_patches.append(vsplit_img[j])\n",
    "            mask_patches.append(vsplit_msk[j])"
   ]
  },
  {
   "cell_type": "code",
   "execution_count": null,
   "id": "18e3fb43-8910-4312-8116-9bfd4e9d666d",
   "metadata": {},
   "outputs": [],
   "source": [
    "print(len(img_patches))\n",
    "print(len(mask_patches))"
   ]
  },
  {
   "cell_type": "code",
   "execution_count": null,
   "id": "1f1d7090-fc55-4861-b687-de9f1ecfcb48",
   "metadata": {},
   "outputs": [],
   "source": [
    "viewer = napari.view_image(patches_empty_list[50], name= 'testsplit', scale = [0.208,0.208])"
   ]
  },
  {
   "cell_type": "code",
   "execution_count": null,
   "id": "ece60ae5-d8a1-471f-942f-50ef94d87885",
   "metadata": {},
   "outputs": [],
   "source": [
    "mask_patches = []\n",
    "img_patches = []\n",
    "for i in range(len(imgs)):\n",
    "    arraysplit3D(imgs[i], img_patches)\n",
    "    arraysplit3D(masks[i], mask_patches)\n",
    "\n",
    "print(len(mask_patches))\n",
    "print(len(img_patches))"
   ]
  },
  {
   "cell_type": "code",
   "execution_count": null,
   "id": "1436bf47-e7cf-4346-be15-b60f555d33ef",
   "metadata": {},
   "outputs": [],
   "source": [
    "filterdata(mask_patches,img_patches,save_path_masks,save_path_imgs)"
   ]
  }
 ],
 "metadata": {
  "kernelspec": {
   "display_name": "Python 3 (ipykernel)",
   "language": "python",
   "name": "python3"
  },
  "language_info": {
   "codemirror_mode": {
    "name": "ipython",
    "version": 3
   },
   "file_extension": ".py",
   "mimetype": "text/x-python",
   "name": "python",
   "nbconvert_exporter": "python",
   "pygments_lexer": "ipython3",
   "version": "3.12.9"
  }
 },
 "nbformat": 4,
 "nbformat_minor": 5
}
