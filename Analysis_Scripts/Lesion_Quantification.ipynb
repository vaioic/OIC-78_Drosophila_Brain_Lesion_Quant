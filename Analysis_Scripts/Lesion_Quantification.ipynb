{
 "cells": [
  {
   "cell_type": "markdown",
   "id": "68c408a3",
   "metadata": {},
   "source": [
    "# Import packages for the code"
   ]
  },
  {
   "cell_type": "code",
   "execution_count": null,
   "id": "f5b1b43b",
   "metadata": {},
   "outputs": [],
   "source": [
    "import skimage as sk\n",
    "import numpy as np\n",
    "import os\n",
    "import napari\n",
    "import pandas as pd\n",
    "from glob import glob\n",
    "from tqdm import tqdm"
   ]
  },
  {
   "cell_type": "markdown",
   "id": "2baa1a72",
   "metadata": {},
   "source": [
    "# Functions that carry out all steps of the script\n",
    "Get the object IDs and volumes, to scale, of each lesion. In Scikit-image, the area measurement is also the volume measurement for 3D objects. Before getting measurements, any objects touching the border of the image are removed (these are incomplete objects and will not have representative measurements)."
   ]
  },
  {
   "cell_type": "code",
   "execution_count": null,
   "id": "d8b31b65",
   "metadata": {},
   "outputs": [],
   "source": [
    "def get_measurements(mask,props, voxels):\n",
    "    filtered_masks = sk.segmentation.clear_border(mask)\n",
    "    df = sk.measure.regionprops_table(filtered_masks,properties=props, spacing=voxels)\n",
    "    df = pd.DataFrame.from_dict(df)\n",
    "    return filtered_masks, df"
   ]
  },
  {
   "cell_type": "markdown",
   "id": "79e4fa44",
   "metadata": {},
   "source": [
    "Calculate the surface area of each object, this is the most computationally intense step. Add the surface area to the existing data frame created from the previous function."
   ]
  },
  {
   "cell_type": "code",
   "execution_count": null,
   "id": "f4ed696f",
   "metadata": {},
   "outputs": [],
   "source": [
    "def get_3D_surfacearea_and_sphericity(filtered_masks,df,voxels):\n",
    "    surf_area_list = []\n",
    "    sphericity_list = []\n",
    "    vol = np.asarray(df['area']).astype(np.float64)\n",
    "    c = 0\n",
    "    for i in np.asarray(df['label']).astype(int):\n",
    "        obj = filtered_masks == i\n",
    "        verts, faces, _ , _ = sk.measure.marching_cubes(obj, level=0.0,spacing=(voxels[0],voxels[1],voxels[2]))\n",
    "        surf_area = sk.measure.mesh_surface_area(verts, faces)\n",
    "        surf_area_list.append(surf_area)\n",
    "        sphericity = (np.pi**(1/3)*((6*vol[c])**(2/3)))/surf_area\n",
    "        sphericity_list.append(sphericity)\n",
    "        c += 1\n",
    "    surface_areas = pd.Series(surf_area_list,name='Surface_Area (um^2)')\n",
    "    sphericities = pd.Series(sphericity_list,name='Sphericity')\n",
    "    merged_df = pd.concat([df,surface_areas,sphericities], axis=1)\n",
    "    return merged_df\n",
    "    "
   ]
  },
  {
   "cell_type": "markdown",
   "id": "786cdc5a",
   "metadata": {},
   "source": [
    "Create a folder in a specified location to save the final label images and data frames."
   ]
  },
  {
   "cell_type": "code",
   "execution_count": null,
   "id": "f9d45569",
   "metadata": {},
   "outputs": [],
   "source": [
    "def save(save_path, img_name, filtered_masks, merged_df):\n",
    "    # make directories if they do not exist\n",
    "    try:\n",
    "        masks_path = os.mkdir(os.path.join(save_path,'masks'))\n",
    "        dataframe_path = os.mkdir(os.path.join(save_path,'measurements'))\n",
    "    # use the expected paths if the directories exist already\n",
    "    except:\n",
    "        masks_path = os.path.join(save_path,'masks')\n",
    "        dataframe_path = os.path.join(save_path,'measurements')\n",
    "    sk.io.imsave(os.path.join(masks_path,'filtered_masks_'+img_name[:-4]+'.tif'),filtered_masks,check_contrast=False)\n",
    "    merged_df.to_csv(os.path.join(dataframe_path,'measurements_'+img_name[:-4]+'.csv'))"
   ]
  },
  {
   "cell_type": "markdown",
   "id": "9fa04ae7",
   "metadata": {},
   "source": [
    "# Read in the images and then use the functions in a loop to get and save measurements"
   ]
  },
  {
   "cell_type": "code",
   "execution_count": null,
   "id": "fb3e500f",
   "metadata": {},
   "outputs": [],
   "source": [
    "files = sorted(glob('path/to/images/*.tif')) #gets a list of all files that end with a .tif extension\n",
    "labels = list(map(sk.io.imread,files)) #read in all images as an array (required for doing anything with the image data)"
   ]
  },
  {
   "cell_type": "code",
   "execution_count": null,
   "id": "55bd0961",
   "metadata": {},
   "outputs": [],
   "source": [
    "viewer = napari.view_labels(labels[10]) #Optional, use to visually check that the label images look correct"
   ]
  },
  {
   "cell_type": "markdown",
   "id": "4964981f",
   "metadata": {},
   "source": [
    "Specify the properties to measure with scikit-image, the size of the pixel in 3d (voxel), and the save location. Then run the functions defined above in a loop over all the images. tqdm is a python package that shows a progress bar when a loop is running. It's not needed but very helpful to check the progress."
   ]
  },
  {
   "cell_type": "code",
   "execution_count": null,
   "id": "df10aea5",
   "metadata": {},
   "outputs": [],
   "source": [
    "props = ('label','area')\n",
    "voxels = [3.0,0.208,0.208]\n",
    "save_path = '/path/to/save/location/'\n",
    "\n",
    "for i in tqdm(range(len(labels))):\n",
    "    img_name = os.path.basename(files[i])\n",
    "    mask_img, df = get_measurements(mask=labels[i],props=props,voxels=voxels)\n",
    "    merged_df = get_3D_surfacearea_and_sphericity(filtered_masks=mask_img,df=df,voxels=voxels)\n",
    "    save(save_path=save_path, img_name=img_name, filtered_masks=mask_img, merged_df=merged_df)"
   ]
  }
 ],
 "metadata": {
  "kernelspec": {
   "display_name": "cle",
   "language": "python",
   "name": "cle"
  },
  "language_info": {
   "codemirror_mode": {
    "name": "ipython",
    "version": 3
   },
   "file_extension": ".py",
   "mimetype": "text/x-python",
   "name": "python",
   "nbconvert_exporter": "python",
   "pygments_lexer": "ipython3",
   "version": "3.9.21"
  }
 },
 "nbformat": 4,
 "nbformat_minor": 5
}
