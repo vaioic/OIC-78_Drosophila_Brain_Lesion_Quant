{
 "cells": [
  {
   "cell_type": "code",
   "execution_count": 2,
   "id": "55c9bbf0-f131-470a-aac4-cc36752e4f91",
   "metadata": {},
   "outputs": [],
   "source": [
    "from cellpose import io, models, train"
   ]
  },
  {
   "cell_type": "code",
   "execution_count": null,
   "id": "99d1d5a5-7354-48db-8154-c4c36c30264d",
   "metadata": {},
   "outputs": [],
   "source": [
    "io.logger_setup()\n",
    "\n",
    "train_dir = 'E:/Lempradl_Lab/April/OIC-78_Drosophila-brain-lesion-quant/cellpose_training/'\n",
    "test_dir = 'E:/Lempradl_Lab/April/OIC-78_Drosophila-brain-lesion-quant/cellpose_test/'\n",
    "\n",
    "\n",
    "output = io.load_train_test_data(train_dir, test_dir, image_filter=\"_img\",\n",
    "                                mask_filter=\"_masks\", look_one_level_down=False)\n",
    "images, labels, image_names, test_images, test_labels, image_names_test = output\n",
    "\n",
    "# e.g. retrain a Cellpose model\n",
    "model = models.CellposeModel(model_type=\"cyto3\")\n",
    "\n",
    "model_path, train_losses, test_losses = train.train_seg(model.net,\n",
    "                            train_data=images, train_labels=labels,\n",
    "                            channels=[1,2], normalize=True,\n",
    "                            test_data=test_images, test_labels=test_labels,\n",
    "                            weight_decay=1e-4, SGD=True, learning_rate=0.1,\n",
    "                            n_epochs=100, model_name=\"my_new_model\")"
   ]
  }
 ],
 "metadata": {
  "kernelspec": {
   "display_name": "CellPose",
   "language": "python",
   "name": "cellpose"
  },
  "language_info": {
   "codemirror_mode": {
    "name": "ipython",
    "version": 3
   },
   "file_extension": ".py",
   "mimetype": "text/x-python",
   "name": "python",
   "nbconvert_exporter": "python",
   "pygments_lexer": "ipython3",
   "version": "3.10.16"
  }
 },
 "nbformat": 4,
 "nbformat_minor": 5
}
