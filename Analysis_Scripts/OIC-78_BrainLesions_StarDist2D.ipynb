{
 "cells": [
  {
   "cell_type": "code",
   "execution_count": null,
   "id": "28cd5a21-5ba7-4f3e-8ae5-4858935826e3",
   "metadata": {},
   "outputs": [],
   "source": [
    "from __future__ import print_function, unicode_literals, absolute_import, division\n",
    "import sys\n",
    "import numpy as np\n",
    "import matplotlib\n",
    "matplotlib.rcParams[\"image.interpolation\"] = 'none'\n",
    "import matplotlib.pyplot as plt\n",
    "%matplotlib inline\n",
    "%config InlineBackend.figure_format = 'retina'\n",
    "\n",
    "from glob import glob\n",
    "from tqdm import tqdm\n",
    "from tifffile import imread\n",
    "from csbdeep.utils import Path, normalize\n",
    "\n",
    "from stardist import fill_label_holes, random_label_cmap, calculate_extents, gputools_available\n",
    "from stardist.matching import matching, matching_dataset\n",
    "from stardist.models import Config2D, StarDist2D, StarDistData2D\n",
    "\n",
    "np.random.seed(42)\n",
    "lbl_cmap = random_label_cmap()"
   ]
  },
  {
   "cell_type": "code",
   "execution_count": null,
   "id": "d06f4e16-89f3-47f5-b3fe-02475a15c56e",
   "metadata": {},
   "outputs": [],
   "source": [
    "X = sorted(glob('E:/Lempradl_Lab/April/OIC-78_Drosophila-brain-lesion-quant/Training_Patches_2D_SplitScript/Images/*.tif'))\n",
    "Y = sorted(glob('E:/Lempradl_Lab/April/OIC-78_Drosophila-brain-lesion-quant/Training_Patches_2D_SplitScript/Masks/*.tif'))\n",
    "assert all(Path(x).name==Path(y).name for x,y in zip(X,Y))"
   ]
  },
  {
   "cell_type": "code",
   "execution_count": null,
   "id": "37f08c28-ad91-4e69-a427-f8c14bca6b07",
   "metadata": {},
   "outputs": [],
   "source": [
    "X = list(map(imread,X))\n",
    "Y = list(map(imread,Y))\n",
    "n_channel = 1 if X[0].ndim == 2 else X[0].shape[-1]"
   ]
  },
  {
   "cell_type": "code",
   "execution_count": null,
   "id": "4024e065-f3c0-434f-8a3c-f56bbc1b5958",
   "metadata": {},
   "outputs": [],
   "source": [
    "#ImageJ's save image sequence altered the dtype of the 3D label images, used following cell to convert to 8-bit array"
   ]
  },
  {
   "cell_type": "code",
   "execution_count": null,
   "id": "69e1143e-f6d2-4e2e-a2cd-1471cc3304ee",
   "metadata": {},
   "outputs": [],
   "source": [
    "Y_labels = []\n",
    "for img in Y:\n",
    "    array = np.array(img)\n",
    "    array = (array * 255).astype(np.uint8)\n",
    "    Y_labels.append(array)"
   ]
  },
  {
   "cell_type": "code",
   "execution_count": null,
   "id": "4bf8a588-c864-48e1-9992-08618773f649",
   "metadata": {},
   "outputs": [],
   "source": [
    "Y_labels[0].shape"
   ]
  },
  {
   "cell_type": "code",
   "execution_count": null,
   "id": "a462b899-ed40-45a0-8a59-6fe7be6c43c8",
   "metadata": {},
   "outputs": [],
   "source": [
    "axis_norm = (0,1)   # normalize channels independently\n",
    "# axis_norm = (0,1,2) # normalize channels jointly\n",
    "if n_channel > 1:\n",
    "    print(\"Normalizing image channels %s.\" % ('jointly' if axis_norm is None or 2 in axis_norm else 'independently'))\n",
    "    sys.stdout.flush()\n",
    "\n",
    "X = [normalize(x,1,99.8,axis=axis_norm) for x in tqdm(X)]\n",
    "Y = [fill_label_holes(y) for y in tqdm(Y_labels)]"
   ]
  },
  {
   "cell_type": "code",
   "execution_count": null,
   "id": "87e64510-27e2-485a-9081-353827277272",
   "metadata": {},
   "outputs": [],
   "source": [
    "print(len(Y_labels))"
   ]
  },
  {
   "cell_type": "code",
   "execution_count": null,
   "id": "03e91fd0-dced-4412-bc87-fe4a308a2cb7",
   "metadata": {},
   "outputs": [],
   "source": [
    "assert len(X) > 1, \"not enough training data\"\n",
    "rng = np.random.RandomState(42)\n",
    "ind = rng.permutation(len(X))\n",
    "n_val = max(1, int(round(0.15 * len(ind))))\n",
    "ind_train, ind_val = ind[:-n_val], ind[-n_val:]\n",
    "X_val, Y_val = [X[i] for i in ind_val]  , [Y_labels[i] for i in ind_val]\n",
    "X_trn, Y_trn = [X[i] for i in ind_train], [Y_labels[i] for i in ind_train] \n",
    "print('number of images: %3d' % len(X))\n",
    "print('- training:       %3d' % len(X_trn))\n",
    "print('- validation:     %3d' % len(X_val))"
   ]
  },
  {
   "cell_type": "code",
   "execution_count": null,
   "id": "b3024fc5-38f7-4a9c-ac53-300b3e6c9893",
   "metadata": {},
   "outputs": [],
   "source": [
    "def plot_img_label(img, lbl, img_title=\"image\", lbl_title=\"label\", **kwargs):\n",
    "    fig, (ai,al) = plt.subplots(1,2, figsize=(12,5), gridspec_kw=dict(width_ratios=(1.25,1)))\n",
    "    im = ai.imshow(img, cmap='gray', clim=(0,1))\n",
    "    ai.set_title(img_title)    \n",
    "    fig.colorbar(im, ax=ai)\n",
    "    al.imshow(lbl, cmap=lbl_cmap)\n",
    "    al.set_title(lbl_title)\n",
    "    plt.tight_layout()\n",
    "    plt.show()"
   ]
  },
  {
   "cell_type": "code",
   "execution_count": null,
   "id": "6f78b611-cdad-488b-867d-7b2187119b2f",
   "metadata": {},
   "outputs": [],
   "source": [
    "i = 111\n",
    "img, lbl = X[i], Y_labels[i]\n",
    "assert img.ndim in (2,3)\n",
    "img = img if (img.ndim==2 or img.shape[-1]==3) else img[...,0]\n",
    "plot_img_label(img,lbl)\n",
    "None;"
   ]
  },
  {
   "cell_type": "code",
   "execution_count": null,
   "id": "5249fe70-9b6a-47f6-895f-4102c18960ab",
   "metadata": {},
   "outputs": [],
   "source": []
  },
  {
   "cell_type": "code",
   "execution_count": null,
   "id": "c3f53dd5-b8a0-4adc-88e4-cc1409a161a7",
   "metadata": {},
   "outputs": [],
   "source": [
    "# 32 is a good default choice (see 1_data.ipynb)\n",
    "n_rays = 32\n",
    "\n",
    "# Use OpenCL-based computations for data generator during training (requires 'gputools')\n",
    "use_gpu = True and gputools_available()\n",
    "\n",
    "# Predict on subsampled grid for increased efficiency and larger field of view\n",
    "grid = (2,2)\n",
    "\n",
    "conf = Config2D (\n",
    "    n_rays       = n_rays,\n",
    "    grid         = grid,\n",
    "    use_gpu      = use_gpu,\n",
    "    n_channel_in = n_channel,\n",
    "    train_patch_size = (128,128),\n",
    "    train_steps_per_epoch = 100,\n",
    "    train_epochs = 400,\n",
    ")\n",
    "print(conf)\n",
    "vars(conf)"
   ]
  },
  {
   "cell_type": "code",
   "execution_count": null,
   "id": "67cefebb-4042-4f91-b35a-c7cc2824e81f",
   "metadata": {},
   "outputs": [],
   "source": [
    "model = StarDist2D(conf, name='stardist2D_100steps_400epochs_SplitScriptPatches_modelpatches256x256', basedir='models')"
   ]
  },
  {
   "cell_type": "code",
   "execution_count": null,
   "id": "aed447fc-9fd7-4cbc-adf4-ff62410450a5",
   "metadata": {},
   "outputs": [],
   "source": [
    "median_size = calculate_extents(list(Y_labels), np.median)\n",
    "fov = np.array(model._axes_tile_overlap('YX'))\n",
    "print(f\"median object size:      {median_size}\")\n",
    "print(f\"network field of view :  {fov}\")\n",
    "if any(median_size > fov):\n",
    "    print(\"WARNING: median object size larger than field of view of the neural network.\")"
   ]
  },
  {
   "cell_type": "code",
   "execution_count": null,
   "id": "df6bee8a-6f4d-4d59-9d41-b15443128ea4",
   "metadata": {},
   "outputs": [],
   "source": [
    "def random_fliprot(img, mask): \n",
    "    assert img.ndim >= mask.ndim\n",
    "    axes = tuple(range(mask.ndim))\n",
    "    perm = tuple(np.random.permutation(axes))\n",
    "    img = img.transpose(perm + tuple(range(mask.ndim, img.ndim))) \n",
    "    mask = mask.transpose(perm) \n",
    "    for ax in axes: \n",
    "        if np.random.rand() > 0.5:\n",
    "            img = np.flip(img, axis=ax)\n",
    "            mask = np.flip(mask, axis=ax)\n",
    "    return img, mask \n",
    "\n",
    "def random_intensity_change(img):\n",
    "    img = img*np.random.uniform(0.6,2) + np.random.uniform(-0.2,0.2)\n",
    "    return img\n",
    "\n",
    "\n",
    "def augmenter(x, y):\n",
    "    \"\"\"Augmentation of a single input/label image pair.\n",
    "    x is an input image\n",
    "    y is the corresponding ground-truth label image\n",
    "    \"\"\"\n",
    "    x, y = random_fliprot(x, y)\n",
    "    x = random_intensity_change(x)\n",
    "    # add some gaussian noise\n",
    "    sig = 0.02*np.random.uniform(0,1)\n",
    "    x = x + sig*np.random.normal(0,1,x.shape)\n",
    "    return x, y"
   ]
  },
  {
   "cell_type": "code",
   "execution_count": null,
   "id": "b8dbc974-6a21-497c-a90c-9de423c55acc",
   "metadata": {},
   "outputs": [],
   "source": [
    "# plot some augmented examples\n",
    "img, lbl = X[55],Y_labels[55]\n",
    "plot_img_label(img, lbl)\n",
    "for _ in range(3):\n",
    "    img_aug, lbl_aug = augmenter(img,lbl)\n",
    "    plot_img_label(img_aug, lbl_aug, img_title=\"image augmented\", lbl_title=\"label augmented\")"
   ]
  },
  {
   "cell_type": "code",
   "execution_count": null,
   "id": "694a1f43-6472-4496-9d82-342e61bf276f",
   "metadata": {},
   "outputs": [],
   "source": [
    "model.train(X_trn, Y_trn, validation_data=(X_val,Y_val), augmenter=augmenter)"
   ]
  },
  {
   "cell_type": "code",
   "execution_count": null,
   "id": "82db3f4e-0319-4335-bced-bfc7bfcbfb5c",
   "metadata": {},
   "outputs": [],
   "source": [
    "model.optimize_thresholds(X_val, Y_val)"
   ]
  },
  {
   "cell_type": "code",
   "execution_count": null,
   "id": "a6f4b2cc-a1a7-4469-b032-e4e21f173eb4",
   "metadata": {},
   "outputs": [],
   "source": [
    "Y_val_pred = [model.predict_instances(x, n_tiles=model._guess_n_tiles(x), show_tile_progress=False)[0]\n",
    "              for x in tqdm(X_val)]"
   ]
  },
  {
   "cell_type": "code",
   "execution_count": null,
   "id": "3e4b71ac-3e51-415d-a84a-3a6df5ae1a1e",
   "metadata": {},
   "outputs": [],
   "source": [
    "import napari\n",
    "import random"
   ]
  },
  {
   "cell_type": "code",
   "execution_count": null,
   "id": "1061b7c9-a7d4-4435-b3cb-f7b26aacee7e",
   "metadata": {},
   "outputs": [],
   "source": [
    "l= range(len(Y_val_pred))\n",
    "i = random.randint(0,119)\n",
    "print(l)\n",
    "print(i)"
   ]
  },
  {
   "cell_type": "code",
   "execution_count": null,
   "id": "9cf4930c-1939-40d4-b0bb-f88f26c6031a",
   "metadata": {},
   "outputs": [],
   "source": [
    "viewer = napari.view_image(X_val[i], name= 'Val.Image')\n",
    "viewer.add_image(Y_val[i],name='GT_Labels')\n",
    "viewer.add_image(Y_val_pred[i], name= 'Predicted_Labels')\n",
    "# plot_img_label(X_val[2],Y_val[2], lbl_title=\"label GT\")\n",
    "# plot_img_label(X_val[2],Y_val_pred[2], lbl_title=\"label Pred\")"
   ]
  },
  {
   "cell_type": "code",
   "execution_count": null,
   "id": "edc79d43-e918-40eb-9b83-70fc5dfdec1f",
   "metadata": {},
   "outputs": [],
   "source": [
    "taus = [0.1, 0.2, 0.3, 0.4, 0.5, 0.6, 0.7, 0.8, 0.9]\n",
    "stats = [matching_dataset(Y_val, Y_val_pred, thresh=t, show_progress=False) for t in tqdm(taus)]"
   ]
  },
  {
   "cell_type": "code",
   "execution_count": null,
   "id": "02682e3c-df60-49fb-94d6-17bc5bf438e5",
   "metadata": {},
   "outputs": [],
   "source": [
    "stats[taus.index(0.5)]"
   ]
  },
  {
   "cell_type": "code",
   "execution_count": null,
   "id": "7facaec2-ef8f-47ab-bfc2-501ce3092435",
   "metadata": {},
   "outputs": [],
   "source": [
    "fig, (ax1,ax2) = plt.subplots(1,2, figsize=(15,5))\n",
    "\n",
    "for m in ('precision', 'recall', 'accuracy', 'f1', 'mean_true_score', 'mean_matched_score', 'panoptic_quality'):\n",
    "    ax1.plot(taus, [s._asdict()[m] for s in stats], '.-', lw=2, label=m)\n",
    "ax1.set_xlabel(r'IoU threshold $\\tau$')\n",
    "ax1.set_ylabel('Metric value')\n",
    "ax1.grid()\n",
    "ax1.legend()\n",
    "\n",
    "for m in ('fp', 'tp', 'fn'):\n",
    "    ax2.plot(taus, [s._asdict()[m] for s in stats], '.-', lw=2, label=m)\n",
    "ax2.set_xlabel(r'IoU threshold $\\tau$')\n",
    "ax2.set_ylabel('Number #')\n",
    "ax2.grid()\n",
    "ax2.legend();\n",
    "\n",
    "plt.show()"
   ]
  },
  {
   "cell_type": "code",
   "execution_count": null,
   "id": "dcc0af45-db80-425a-972a-6882d01566ef",
   "metadata": {},
   "outputs": [],
   "source": []
  }
 ],
 "metadata": {
  "kernelspec": {
   "display_name": "StarDistGPU",
   "language": "python",
   "name": "stardistgpu"
  },
  "language_info": {
   "codemirror_mode": {
    "name": "ipython",
    "version": 3
   },
   "file_extension": ".py",
   "mimetype": "text/x-python",
   "name": "python",
   "nbconvert_exporter": "python",
   "pygments_lexer": "ipython3",
   "version": "3.12.9"
  }
 },
 "nbformat": 4,
 "nbformat_minor": 5
}
