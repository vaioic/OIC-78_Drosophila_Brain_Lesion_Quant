{
 "cells": [
  {
   "cell_type": "code",
   "execution_count": 9,
   "id": "d6531c0f-645c-43d4-a533-c7eecab65188",
   "metadata": {},
   "outputs": [],
   "source": [
    "from __future__ import print_function, unicode_literals, absolute_import, division\n",
    "import sys\n",
    "import numpy as np\n",
    "import matplotlib\n",
    "matplotlib.rcParams[\"image.interpolation\"] = 'none'\n",
    "import matplotlib.pyplot as plt\n",
    "%matplotlib inline\n",
    "%config InlineBackend.figure_format = 'retina'\n",
    "\n",
    "from glob import glob\n",
    "from tifffile import imread\n",
    "from tqdm import tqdm\n",
    "from csbdeep.utils import Path, normalize\n",
    "from csbdeep.io import save_tiff_imagej_compatible\n",
    "import skimage as sk\n",
    "import os\n",
    "\n",
    "from stardist import random_label_cmap, _draw_polygons, export_imagej_rois\n",
    "from stardist.models import StarDist2D\n",
    "\n",
    "np.random.seed(6)\n",
    "lbl_cmap = random_label_cmap()"
   ]
  },
  {
   "cell_type": "code",
   "execution_count": 24,
   "id": "b88fe802-9ea5-45bd-aa38-6de4c91e062d",
   "metadata": {},
   "outputs": [],
   "source": [
    "def StarDist2D_with_stitching(imgs, axis_norm, model, save_path):\n",
    "    print('Normalizing images')\n",
    "    norm = [normalize(x, 1,99.8, axis=(0,)+tuple(1+np.array(axis_norm))) for x in tqdm(imgs)]\n",
    "    print('Predicting')\n",
    "    c=0\n",
    "    for i in tqdm(norm):\n",
    "        labels = [model.predict_instances(frame, return_labels=True)[0] for frame in i]\n",
    "        labels = np.asarray(labels)\n",
    "        labels = labels > 0\n",
    "        labels = sk.measure.label(labels)\n",
    "        sk.io.imsave(os.path.join(save_path,'labels_'+os.path.basename(Xfiles[c])+'.tiff'),labels,check_contrast=False)\n",
    "        c+=1\n",
    "        "
   ]
  },
  {
   "cell_type": "code",
   "execution_count": 11,
   "id": "2c317564-3789-476f-92be-e97551911519",
   "metadata": {},
   "outputs": [
    {
     "name": "stdout",
     "output_type": "stream",
     "text": [
      "Normalizing image channels independently.\n"
     ]
    }
   ],
   "source": [
    "Xfiles = sorted(glob('E:/Lempradl_Lab/April/OIC-78_Drosophila-brain-lesion-quant/training_images/*.tif'))\n",
    "Ximgs = list(map(imread,Xfiles))\n",
    "test_img = Ximgs[0]\n",
    "n_channel = 1 if X[0].ndim == 2 else X[0].shape[-1]\n",
    "axis_norm = (0,1)\n",
    "if n_channel > 1:\n",
    "    print(\"Normalizing image channels %s.\" % ('jointly' if axis_norm is None or 2 in axis_norm else 'independently'))"
   ]
  },
  {
   "cell_type": "code",
   "execution_count": 25,
   "id": "a7ecfa35-ced0-48ca-a789-3ee9f0ba735a",
   "metadata": {},
   "outputs": [
    {
     "name": "stdout",
     "output_type": "stream",
     "text": [
      "Loading network weights from 'weights_best.h5'.\n",
      "Loading thresholds from 'thresholds.json'.\n",
      "Using default values: prob_thresh=0.537479, nms_thresh=0.3.\n",
      "Normalizing images\n"
     ]
    },
    {
     "name": "stderr",
     "output_type": "stream",
     "text": [
      "100%|██████████████████████████████████████████████████████████████████████████████████| 16/16 [01:41<00:00,  6.36s/it]\n"
     ]
    },
    {
     "name": "stdout",
     "output_type": "stream",
     "text": [
      "Predicting\n"
     ]
    },
    {
     "name": "stderr",
     "output_type": "stream",
     "text": [
      "  6%|█████▏                                                                             | 1/16 [01:00<15:02, 60.17s/it]functional.py (238): The structure of `inputs` doesn't match the expected structure.\n",
      "Expected: ['input']\n",
      "Received: inputs=Tensor(shape=(1, 3792, None, 1))\n",
      " 12%|██████████▍                                                                        | 2/16 [02:00<14:06, 60.48s/it]functional.py (238): The structure of `inputs` doesn't match the expected structure.\n",
      "Expected: ['input']\n",
      "Received: inputs=Tensor(shape=(1, None, None, 1))\n",
      "100%|██████████████████████████████████████████████████████████████████████████████████| 16/16 [13:45<00:00, 51.61s/it]\n"
     ]
    }
   ],
   "source": [
    "model = StarDist2D(None, name='stardist2D_100steps_400epochs_SplitScriptPatches_modelpatches256x256', basedir='models')\n",
    "save_path = 'E:/Lempradl_Lab/April/OIC-78_Drosophila-brain-lesion-quant/StarDist_Model_Results'\n",
    "StarDist2D_with_stitching(imgs=Ximgs,axis_norm=axis_norm,model=model,save_path=save_path)"
   ]
  },
  {
   "cell_type": "code",
   "execution_count": null,
   "id": "2d89e00e-6ef5-4e54-8365-288faa867a19",
   "metadata": {},
   "outputs": [],
   "source": [
    "norm = normalize(test_img, 1,99.8, axis=(0,)+tuple(1+np.array(axis_norm)))"
   ]
  },
  {
   "cell_type": "code",
   "execution_count": null,
   "id": "b65707f8-749a-4bac-a018-e178e0b04cce",
   "metadata": {},
   "outputs": [],
   "source": [
    "normX = []\n",
    "for x in X:\n",
    "    norm = normalize(x, 1,99.8, axis=(0,)+tuple(1+np.array(axis_norm)))\n",
    "    normX.append(norm)"
   ]
  },
  {
   "cell_type": "code",
   "execution_count": null,
   "id": "f130e795-2223-46d4-b156-e57f9994bf5d",
   "metadata": {},
   "outputs": [],
   "source": []
  },
  {
   "cell_type": "code",
   "execution_count": null,
   "id": "5aa8fa52-8042-425c-9fa4-ded8597a94b7",
   "metadata": {},
   "outputs": [],
   "source": [
    "labels = [model.predict_instances(frame, return_labels=True)[0] for frame in tqdm(norm)]"
   ]
  },
  {
   "cell_type": "code",
   "execution_count": null,
   "id": "851cb92c-5e4e-4f51-ba2c-add99136a0c8",
   "metadata": {},
   "outputs": [],
   "source": [
    "labels = np.asarray(labels > 0 )"
   ]
  },
  {
   "cell_type": "code",
   "execution_count": null,
   "id": "5d25db18-3e53-439b-b6fc-4f2ccd90736a",
   "metadata": {},
   "outputs": [],
   "source": [
    "labels = sk.measure.label(labels)"
   ]
  },
  {
   "cell_type": "code",
   "execution_count": null,
   "id": "121147da-1014-49a5-adbd-d20b23d545cc",
   "metadata": {},
   "outputs": [],
   "source": [
    "test_img.shape"
   ]
  },
  {
   "cell_type": "code",
   "execution_count": null,
   "id": "72920319-3ab2-4a10-8979-4944458ccc93",
   "metadata": {},
   "outputs": [],
   "source": [
    "help(model.predict_instances)"
   ]
  },
  {
   "cell_type": "code",
   "execution_count": null,
   "id": "d4b603ac-5e9e-411b-8017-08dcf830bcb3",
   "metadata": {},
   "outputs": [],
   "source": [
    "#import napari\n",
    "viewer = napari.view_image(test_img, name='img', scale=(3.0,0.2,0.2))\n",
    "viewer.add_image(labels, name='labels',scale=(3.0,0.2,0.2))"
   ]
  }
 ],
 "metadata": {
  "kernelspec": {
   "display_name": "StarDistGPU",
   "language": "python",
   "name": "stardistgpu"
  },
  "language_info": {
   "codemirror_mode": {
    "name": "ipython",
    "version": 3
   },
   "file_extension": ".py",
   "mimetype": "text/x-python",
   "name": "python",
   "nbconvert_exporter": "python",
   "pygments_lexer": "ipython3",
   "version": "3.12.9"
  }
 },
 "nbformat": 4,
 "nbformat_minor": 5
}
